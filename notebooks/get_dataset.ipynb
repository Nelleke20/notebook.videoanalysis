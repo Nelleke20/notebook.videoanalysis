{
 "cells": [
  {
   "cell_type": "markdown",
   "metadata": {},
   "source": [
    "### Object detection and tracking with opencv"
   ]
  },
  {
   "cell_type": "code",
   "execution_count": 1,
   "metadata": {},
   "outputs": [],
   "source": [
    "import cv2"
   ]
  },
  {
   "cell_type": "code",
   "execution_count": 2,
   "metadata": {},
   "outputs": [],
   "source": [
    "def initialize(videopath):\n",
    "    cap = cv2.VideoCapture(videopath)\n",
    "    od = cv2.createBackgroundSubtractorMOG2(varThreshold=50, history=100) # better selection and quicker\n",
    "    # od = cv2.createBackgroundSubtractorKNN()\n",
    "    return cap, od"
   ]
  },
  {
   "cell_type": "code",
   "execution_count": 3,
   "metadata": {},
   "outputs": [],
   "source": [
    "cap, od =initialize('../data/aerial_football_video.mp4')"
   ]
  },
  {
   "cell_type": "code",
   "execution_count": 4,
   "metadata": {},
   "outputs": [],
   "source": [
    "def identifying_objects(c, od):\n",
    "    count = 0\n",
    "    while True:\n",
    "        ret, frame = c.read()                                       # read frames\n",
    "        if not ret:\n",
    "            print(\"Stream ended. Exiting...\")\n",
    "            break        \n",
    "        key = cv2.waitKey(1)\n",
    "        if key == ord('q'):                                         # exit\n",
    "            break        \n",
    "        elif key == ord('x'):                                       # pauze screen\n",
    "            cv2.waitKey(0)        \n",
    "        frame = cv2.resize(frame, (960, 540))                       # Resize image\n",
    "        cv2.imshow('frame', frame)\n",
    "        mask = od.apply(frame)                                      # run mask (black and white)\n",
    "        _, mask = cv2.threshold(mask, 254, 255,cv2.THRESH_BINARY) # set treshold to only get really contracting values in themask\n",
    "        cv2.imshow('mask', mask)\n",
    "        contours, _ = cv2.findContours(mask, cv2.RETR_TREE, cv2.CHAIN_APPROX_SIMPLE) #Each individual contour is a Numpy array of (x,y) coordinates of boundary points of the object.\n",
    "        detect = []\n",
    "        for cnt in contours:\n",
    "            count += 1\n",
    "            x,y,w,h = cv2.boundingRect(cnt)                         # get boundingbox\n",
    "            detect.append([x,y,w,h])\n",
    "            cv2.rectangle(frame,(x,y), (x+w, y+h),(0,0, 255), 3)     # draw rectangle\n",
    "            cv2.imshow('frame2', frame)\n",
    "        if key == ord('q'):                                         # exit\n",
    "            break        \n",
    "        elif key == ord('x'):                                       # pauze screen\n",
    "            cv2.waitKey(0)              \n",
    "    c.release()\n",
    "    cv2.destroyAllWindows()\n",
    "    [cv2.waitKey(1) for i in range(1,5)]                            # needed to destroy window\n",
    "    return c, frame"
   ]
  },
  {
   "cell_type": "code",
   "execution_count": 5,
   "metadata": {},
   "outputs": [],
   "source": [
    "cap, frame = identifying_objects(cap, od)"
   ]
  },
  {
   "cell_type": "code",
   "execution_count": 6,
   "metadata": {},
   "outputs": [],
   "source": [
    "## first step was finding objects, now its time for tracking"
   ]
  },
  {
   "cell_type": "code",
   "execution_count": 6,
   "metadata": {},
   "outputs": [],
   "source": [
    "tracker = cv2.legacy.TrackerMOSSE_create()"
   ]
  },
  {
   "cell_type": "code",
   "execution_count": 7,
   "metadata": {},
   "outputs": [],
   "source": [
    "def trackng_objects(c, od):\n",
    "    frame_count = 0\n",
    "    while True:\n",
    "        ret, frame = c.read()                                       # read frames\n",
    "        frame_count += 1\n",
    "        frame = cv2.resize(frame, (960, 540))                       # Resize image\n",
    "        if not ret:\n",
    "            print(\"Stream ended. Exiting...\")\n",
    "            break        \n",
    "        key = cv2.waitKey(1)\n",
    "        if key == ord('q'):                                         # exit\n",
    "            break        \n",
    "        elif key == ord('x'):                                       # pauze screen\n",
    "            cv2.waitKey(0)        \n",
    "        cv2.imshow('frame', frame)\n",
    "        mask = od.apply(frame)                                      # run mask (black and white)\n",
    "        _, mask = cv2.threshold(mask, 254, 255,cv2.THRESH_BINARY) # set treshold to only get really contracting values in themask\n",
    "        cv2.imshow('mask', mask)\n",
    "        bbox = cv2.selectROI(frame, False)                        # handmatige select bbox op video\n",
    "        if frame_count == 1:\n",
    "            tracker.init(frame, bbox)\n",
    "            print('initializing tracker')\n",
    "            print(bbox, tracker)        \n",
    "        contours, _ = cv2.findContours(mask, cv2.RETR_TREE, cv2.CHAIN_APPROX_SIMPLE) #Each individual contour is a Numpy array of (x,y) coordinates of boundary points of the object.\n",
    "        detect = []\n",
    "        for cnt in contours:\n",
    "            if frame_count > 1:\n",
    "                x,y,w,h = cv2.boundingRect(cnt)                         # get boundingbox\n",
    "                ret, bbox = tracker.update(frame)                      \n",
    "                print(bbox)\n",
    "                cv2.rectangle(frame, (x, y), (x+w, y+h), (255, 0, 0), 2, 1)\n",
    "\n",
    "                # cv2.rectangle(frame,(x,y), (x+w, y+h),(0,0, 255), 3)     # draw rectangle\n",
    "                cv2.imshow('frame2', frame)\n",
    "                frame_count += 1\n",
    "        # box_ids = tracker.update(detect)\n",
    "        # for box_id in box_ids:\n",
    "        #     x,y,w,h, id = box_id\n",
    "        #     cv2.putText(frame, str(id), (x, y-15), cv2.FONT_HERSHEY_PLAIN, 2, (0,0,255),2)\n",
    "        #     cv2.rectangle(frame, (x,y), (x+w, y+h), (0, 0, 255), 3)\n",
    "        #     print(box_ids)\n",
    "    c.release()\n",
    "    cv2.destroyAllWindows()\n",
    "    [cv2.waitKey(1) for i in range(1,5)]                            # needed to destroy window\n",
    "    return c, frame"
   ]
  },
  {
   "cell_type": "code",
   "execution_count": 8,
   "metadata": {},
   "outputs": [
    {
     "name": "stdout",
     "output_type": "stream",
     "text": [
      "Select a ROI and then press SPACE or ENTER button!\n",
      "Cancel the selection process by pressing c button!\n",
      "initializing tracker\n",
      "(383, 362, 26, 32) < cv2.legacy.TrackerMOSSE 0x7fc0a96ddb70>\n",
      "Select a ROI and then press SPACE or ENTER button!\n",
      "Cancel the selection process by pressing c button!\n",
      "Select a ROI and then press SPACE or ENTER button!\n",
      "Cancel the selection process by pressing c button!\n",
      "Select a ROI and then press SPACE or ENTER button!\n",
      "Cancel the selection process by pressing c button!\n"
     ]
    }
   ],
   "source": [
    "trackng_objects(cap, od)"
   ]
  },
  {
   "cell_type": "code",
   "execution_count": null,
   "metadata": {},
   "outputs": [],
   "source": [
    "### to do:\n",
    "\n",
    "## define in first frame the bbox of specific obecjt\n",
    "## create tracker for that bbox\n",
    "## update tracker per frame"
   ]
  }
 ],
 "metadata": {
  "kernelspec": {
   "display_name": "venv",
   "language": "python",
   "name": "python3"
  },
  "language_info": {
   "codemirror_mode": {
    "name": "ipython",
    "version": 3
   },
   "file_extension": ".py",
   "mimetype": "text/x-python",
   "name": "python",
   "nbconvert_exporter": "python",
   "pygments_lexer": "ipython3",
   "version": "3.8.6"
  }
 },
 "nbformat": 4,
 "nbformat_minor": 2
}
