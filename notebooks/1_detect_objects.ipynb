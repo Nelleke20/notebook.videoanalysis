{
 "cells": [
  {
   "cell_type": "markdown",
   "metadata": {},
   "source": [
    "### Object detection with opencv"
   ]
  },
  {
   "cell_type": "code",
   "execution_count": 1,
   "metadata": {},
   "outputs": [],
   "source": [
    "import cv2\n",
    "import time"
   ]
  },
  {
   "cell_type": "code",
   "execution_count": 2,
   "metadata": {},
   "outputs": [],
   "source": [
    "def initialize(videopath):\n",
    "    cap = cv2.VideoCapture(videopath)\n",
    "    od = cv2.createBackgroundSubtractorMOG2(varThreshold=50, history=100) # better selection and quicker\n",
    "    # od = cv2.createBackgroundSubtractorKNN()\n",
    "    return cap, od"
   ]
  },
  {
   "cell_type": "code",
   "execution_count": 6,
   "metadata": {},
   "outputs": [],
   "source": [
    "# cap, od =initialize('../data/aerial_football_video.mp4')\n",
    "cap, od =initialize('../data/aerial_tennis_video.mp4')"
   ]
  },
  {
   "cell_type": "code",
   "execution_count": 7,
   "metadata": {},
   "outputs": [],
   "source": [
    "def identifying_objects(c, od):\n",
    "    count = 0\n",
    "    while True:\n",
    "        ret, frame = c.read()                                       # read frames\n",
    "        if not ret:\n",
    "            print(\"Stream ended. Exiting...\")\n",
    "            break        \n",
    "        key = cv2.waitKey(1)\n",
    "        if key == ord('q'):                                         # exit\n",
    "            break        \n",
    "        elif key == ord('x'):                                       # pauze screen\n",
    "            cv2.waitKey(0)        \n",
    "        frame = cv2.resize(frame, (960, 540))                       # Resize image\n",
    "        cv2.imshow('frame', frame)\n",
    "        mask = od.apply(frame)                                      # run mask (black and white)\n",
    "        _, mask = cv2.threshold(mask, 254, 255,cv2.THRESH_BINARY)   # set treshold to only get really contrasting values in mask\n",
    "        cv2.imshow('mask', mask)\n",
    "        contours, _ = cv2.findContours(mask, cv2.RETR_TREE, cv2.CHAIN_APPROX_SIMPLE) #Each individual contour is a Numpy array of (x,y) coordinates of boundary points of the object.\n",
    "        detect = []\n",
    "        # print(contours)\n",
    "        for cnt in contours:\n",
    "            count += 1\n",
    "            x,y,w,h = cv2.boundingRect(cnt)                         # get boundingbox\n",
    "            detect.append([x,y,w,h])\n",
    "            cv2.rectangle(frame,(x,y), (x+w, y+h),(0,0, 255), 3)     # draw rectangle\n",
    "            cv2.imshow('frame2', frame)           \n",
    "    c.release()\n",
    "    cv2.destroyAllWindows()\n",
    "    [cv2.waitKey(1) for i in range(1,5)]                            # needed to destroy window\n",
    "    return c, frame"
   ]
  },
  {
   "cell_type": "code",
   "execution_count": 8,
   "metadata": {},
   "outputs": [
    {
     "ename": "",
     "evalue": "",
     "output_type": "error",
     "traceback": [
      "\u001b[1;31mThe Kernel crashed while executing code in the the current cell or a previous cell. Please review the code in the cell(s) to identify a possible cause of the failure. Click <a href='https://aka.ms/vscodeJupyterKernelCrash'>here</a> for more info. View Jupyter <a href='command:jupyter.viewOutput'>log</a> for further details."
     ]
    }
   ],
   "source": [
    "cap, frame = identifying_objects(cap, od)"
   ]
  }
 ],
 "metadata": {
  "kernelspec": {
   "display_name": "venv",
   "language": "python",
   "name": "python3"
  },
  "language_info": {
   "codemirror_mode": {
    "name": "ipython",
    "version": 3
   },
   "file_extension": ".py",
   "mimetype": "text/x-python",
   "name": "python",
   "nbconvert_exporter": "python",
   "pygments_lexer": "ipython3",
   "version": "3.8.6"
  }
 },
 "nbformat": 4,
 "nbformat_minor": 2
}
