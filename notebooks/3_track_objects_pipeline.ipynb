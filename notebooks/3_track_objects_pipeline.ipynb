{
 "cells": [
  {
   "cell_type": "markdown",
   "metadata": {},
   "source": [
    "### Object tracking with opencv"
   ]
  },
  {
   "cell_type": "code",
   "execution_count": 2,
   "metadata": {},
   "outputs": [],
   "source": [
    "import cv2"
   ]
  },
  {
   "cell_type": "markdown",
   "metadata": {},
   "source": [
    "#### default"
   ]
  },
  {
   "cell_type": "code",
   "execution_count": 3,
   "metadata": {},
   "outputs": [
    {
     "data": {
      "text/plain": [
       "[-1, 113, -1, -1]"
      ]
     },
     "execution_count": 3,
     "metadata": {},
     "output_type": "execute_result"
    }
   ],
   "source": [
    "## DEFAULT WITH LOTS OF NOISE\n",
    "cap = cv2.VideoCapture('../data/aerial_tennis_video.mp4')\n",
    "back = cv2.createBackgroundSubtractorMOG2(varThreshold=50, history=20)\n",
    "\n",
    "while True:\n",
    "    # Capture frame-by-frame\n",
    "        ret, frame = cap.read()\n",
    "        if not ret:\n",
    "            print(\"Stream ended. Exiting...\")\n",
    "            break        \n",
    "        key = cv2.waitKey(1)\n",
    "        if key == ord('q'):                                         # exit\n",
    "            break        \n",
    "        elif key == ord('x'):                                       # pauze screen\n",
    "            cv2.waitKey(0)               \n",
    "        if ret:\n",
    "        # Apply background subtraction\n",
    "            fg_mask = back.apply(frame)                                                     # BACKGROUND MASK\n",
    "            cv2.imshow('Frame_bg', fg_mask)    \n",
    "                                \n",
    "            # Find contours\n",
    "            contours, hierarchy = cv2.findContours(fg_mask, cv2.RETR_EXTERNAL, cv2.CHAIN_APPROX_SIMPLE)\n",
    "            # print(contours)\n",
    "            frame_ct = cv2.drawContours(frame, contours, -1, (0, 255, 0), 2)\n",
    "            # Display the resulting frame\n",
    "            cv2.imshow('Frame_final', frame_ct)\n",
    "\n",
    "cap.release()\n",
    "cv2.destroyAllWindows()\n",
    "[cv2.waitKey(1) for i in range(1,5)]           \n"
   ]
  },
  {
   "cell_type": "markdown",
   "metadata": {},
   "source": [
    "#### with adjusted settings"
   ]
  },
  {
   "cell_type": "code",
   "execution_count": 16,
   "metadata": {},
   "outputs": [
    {
     "data": {
      "text/plain": [
       "[-1, -1, -1, -1]"
      ]
     },
     "execution_count": 16,
     "metadata": {},
     "output_type": "execute_result"
    }
   ],
   "source": [
    "## MORE SETTINGS\n",
    "cap = cv2.VideoCapture('../data/aerial_tennis_video.mp4')\n",
    "back = cv2.createBackgroundSubtractorMOG2(varThreshold=700, history=20)\n",
    "\n",
    "while True:\n",
    "    # Capture frame-by-frame\n",
    "        ret, frame = cap.read()\n",
    "        if not ret:\n",
    "            print(\"Stream ended. Exiting...\")\n",
    "            break        \n",
    "          \n",
    "        if ret:\n",
    "            cv2.imshow('start', frame)    \n",
    "\n",
    "            fg_mask = back.apply(frame)                                                     # BACKGROUND MASK\n",
    "            cv2.imshow('Frame_bg', fg_mask)    \n",
    "\n",
    "            retval, mask_thresh = cv2.threshold(fg_mask, 180, 255, cv2.THRESH_BINARY)       # TRESHOLD (less noise and shadows)\n",
    "            cv2.imshow('frame_thresh', mask_thresh)            \n",
    "\n",
    "            kernel = cv2.getStructuringElement(cv2.MORPH_ELLIPSE, (3, 3))\n",
    "            mask_eroded = cv2.morphologyEx(mask_thresh, cv2.MORPH_OPEN, kernel)\n",
    "            cv2.imshow('frame_erode', mask_eroded)                                          # EROSION\n",
    "                                \n",
    "            contours, hierarchy = cv2.findContours(mask_eroded, cv2.RETR_EXTERNAL, cv2.CHAIN_APPROX_SIMPLE)\n",
    "            \n",
    "            # min_contour_area = 1                                                                                                            \n",
    "            # large_contours = [cnt for cnt in contours if cv2.contourArea(cnt) > min_contour_area] # AREA TRESHOLD \n",
    "            # contours = [cnt for cn in contours]\n",
    "            # frame_ct = cv2.drawContours(frame, contours, -1, (0, 0, 255), 2)\n",
    "            # cv2.imshow('frame_all_contours', frame_ct)                                         \n",
    "\n",
    "            frame_out = frame.copy()\n",
    "            for cnt in contours:\n",
    "                x, y, w, h = cv2.boundingRect(cnt)\n",
    "                wi = w * 5                                                                 # INCREASE BBOX SIZE FOR VISUAL\n",
    "                hi = h * 5\n",
    "                frame_out = cv2.rectangle(frame, (x, y), (x+wi, y+hi), (0, 0, 255), 3)\n",
    "            \n",
    "            # Display the resulting frame\n",
    "            cv2.imshow('Frame_final', frame_out)            \n",
    "\n",
    "            key = cv2.waitKey(1)\n",
    "            if key == ord('q'):                                         # exit\n",
    "                break        \n",
    "            elif key == ord('x'):                                       # pauze screen\n",
    "                cv2.waitKey(0)                 \n",
    "\n",
    "cap.release()\n",
    "cv2.destroyAllWindows()\n",
    "[cv2.waitKey(1) for i in range(1,5)]           \n"
   ]
  },
  {
   "cell_type": "code",
   "execution_count": null,
   "metadata": {},
   "outputs": [],
   "source": [
    "#https://learnopencv.com/moving-object-detection-with-opencv/\n",
    "#### steps to take for tracking:\n",
    "\n",
    "# background substraction\n",
    "# global tresholding\n",
    "# erotion and dilation\n",
    "# contour detection and filtering\n",
    "# bounding box"
   ]
  }
 ],
 "metadata": {
  "kernelspec": {
   "display_name": "venv",
   "language": "python",
   "name": "python3"
  },
  "language_info": {
   "codemirror_mode": {
    "name": "ipython",
    "version": 3
   },
   "file_extension": ".py",
   "mimetype": "text/x-python",
   "name": "python",
   "nbconvert_exporter": "python",
   "pygments_lexer": "ipython3",
   "version": "3.8.6"
  }
 },
 "nbformat": 4,
 "nbformat_minor": 2
}
