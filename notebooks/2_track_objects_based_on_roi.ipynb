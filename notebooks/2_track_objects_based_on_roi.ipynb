{
 "cells": [
  {
   "cell_type": "markdown",
   "metadata": {},
   "source": [
    "### Object tracking with opencv"
   ]
  },
  {
   "cell_type": "code",
   "execution_count": null,
   "metadata": {},
   "outputs": [],
   "source": [
    "import cv2"
   ]
  },
  {
   "cell_type": "code",
   "execution_count": null,
   "metadata": {},
   "outputs": [],
   "source": [
    "def initialize(videopath):\n",
    "    cap = cv2.VideoCapture(videopath)\n",
    "    od = cv2.createBackgroundSubtractorMOG2(varThreshold=1000, history=20, detectShadows=False) \n",
    "    return cap, od"
   ]
  },
  {
   "cell_type": "markdown",
   "metadata": {},
   "source": [
    "#### custom tracking with ROI"
   ]
  },
  {
   "cell_type": "code",
   "execution_count": null,
   "metadata": {},
   "outputs": [],
   "source": [
    "cap, od =initialize('../data/aerial_tennis_video.mp4')\n",
    "\n",
    "ret, frame_n = cap.read()  # Read the frame\n",
    "bbox=cv2.selectROI(frame_n)\n",
    "tracker=cv2.legacy.TrackerMOSSE_create()\n",
    "# tracker = cv2.legacy.TrackerTLD_create()\n",
    "ok = tracker.init(frame_n ,bbox)\n",
    "while True:\n",
    "    ret, frame = cap.read() \n",
    "    if not ret:\n",
    "        break\n",
    "    ok, bbox = tracker.update(frame)\n",
    "    if ok:\n",
    "        p1 = (int(bbox[0]), int(bbox[1]))\n",
    "        p2 = (int(bbox[0] + bbox[2]), int(bbox[1] + bbox[3]))\n",
    "        cv2.rectangle(frame, p1, p2, (0,0,255), 2, 1)\n",
    "    else :\n",
    "        cv2.putText(frame, \"Tracking failure detected\", (100,80), cv2.FONT_HERSHEY_SIMPLEX, 0.75,(0,0,255),2)\n",
    "    cv2.putText(frame, \"Mosse\" + \" Tracker\", (100,20), cv2.FONT_HERSHEY_SIMPLEX, 0.75, (50,170,50),2)\n",
    "    cv2.imshow(\"Tracking\", frame)\n",
    "    key = cv2.waitKey(1)\n",
    "    if key == ord('q'):                                         # exit\n",
    "        break        \n",
    "    elif key == ord('x'):                                       # pauze screen\n",
    "        cv2.waitKey(0)            \n",
    "\n",
    "cap.release()\n",
    "cv2.destroyAllWindows()\n",
    "[cv2.waitKey(1) for i in range(1,5)]           \n"
   ]
  },
  {
   "cell_type": "markdown",
   "metadata": {},
   "source": [
    "#### Old (useless) code"
   ]
  },
  {
   "cell_type": "code",
   "execution_count": null,
   "metadata": {},
   "outputs": [],
   "source": [
    "cap, od =initialize('../data/aerial_tennis_video.mp4')\n",
    "ret, frame_n = cap.read()  # Read the frame\n",
    "bbox=cv2.selectROI(frame_n)\n",
    "tracker=cv2.legacy.TrackerMOSSE_create()\n",
    "ok = tracker.init(frame_n ,bbox)\n",
    "while True:\n",
    "    ret, frame = cap.read() \n",
    "    mask = od.apply(frame)                                      # run mask (black and white)\n",
    "    _, mask = cv2.threshold(mask, 254, 255,cv2.THRESH_BINARY)   # set treshold to only get really contrasting values in mask\n",
    "    cv2.imshow('mask', mask)    \n",
    "    if not ret:\n",
    "        break\n",
    "    ok, bbox = tracker.update(frame)\n",
    "    if ok:\n",
    "        print('tracking!')\n",
    "        p1 = (int(bbox[0]), int(bbox[1]))\n",
    "        p2 = (int(bbox[0] + bbox[2]), int(bbox[1] + bbox[3]))\n",
    "        cv2.rectangle(frame, p1, p2, (0,0,255), 2, 1)\n",
    "    else :\n",
    "        print('not tracked')\n",
    "        cv2.putText(frame, \"Tracking failure detected\", (100,80), cv2.FONT_HERSHEY_SIMPLEX, 0.75,(0,0,255),2)\n",
    "    cv2.putText(frame, \"Mosse\" + \" Tracker\", (100,20), cv2.FONT_HERSHEY_SIMPLEX, 0.75, (50,170,50),2)\n",
    "    cv2.imshow(\"Tracking\", frame)\n",
    "    key = cv2.waitKey(1)\n",
    "    if key == ord('q'):                                         # exit\n",
    "        break        \n",
    "    elif key == ord('x'):                                       # pauze screen\n",
    "        cv2.waitKey(0)            \n",
    "\n",
    "cap.release()\n",
    "cv2.destroyAllWindows()\n",
    "[cv2.waitKey(1) for i in range(1,5)]           \n"
   ]
  },
  {
   "cell_type": "code",
   "execution_count": null,
   "metadata": {},
   "outputs": [],
   "source": [
    "def cleanup_frame(frame, od):\n",
    "    # frame = cv2.resize(frame, (960, 540))                             # Resize image\n",
    "    mask = od.apply(frame)                                              # run mask (black and white)\n",
    "    _, extra_mask = cv2.threshold(mask, 250, 255, cv2.THRESH_BINARY)    # set treshold to only get really contrasting values in mask\n",
    "    return extra_mask"
   ]
  },
  {
   "cell_type": "code",
   "execution_count": null,
   "metadata": {},
   "outputs": [],
   "source": [
    "def identifying_contours_players(c, od):\n",
    "    count = 0\n",
    "    frame_nr = 6\n",
    "    while True:\n",
    "        count +=1\n",
    "        print(c.get(1))     \n",
    "        ret, frame = c.read()                                       # read frames\n",
    "        if not ret:\n",
    "            print(\"Stream ended. Exiting...\")\n",
    "            break        \n",
    "        key = cv2.waitKey(1)\n",
    "        if key == ord('q'):                                         # exit\n",
    "            break        \n",
    "        elif key == ord('x'):                                       # pauze screen\n",
    "            cv2.waitKey(0)        \n",
    "        # frame = cv2.resize(frame, (960, 540))                       # Resize image\n",
    "        # cv2.imshow('frame', frame)\n",
    "        mask = od.apply(frame)                                      # run mask (black and white)\n",
    "        _, mask = cv2.threshold(mask, 254, 255,cv2.THRESH_BINARY)   # set treshold to only get really contrasting values in mask\n",
    "        cv2.imshow('mask', mask)\n",
    "        contours, _ = cv2.findContours(mask, cv2.RETR_TREE, cv2.CHAIN_APPROX_SIMPLE) #Each individual contour is a Numpy array of (x,y) coordinates of boundary points of the object.\n",
    "        frame_detect = []\n",
    "        if count == frame_nr:\n",
    "            for cnt in contours:\n",
    "                x,y,w,h = cv2.boundingRect(cnt)                         # get boundingbox\n",
    "                frame_detect.append([x,y,w,h])\n",
    "                cv2.rectangle(frame,(x,y), (x+w, y+h),(0,0, 255), 3)     # draw rectangle\n",
    "                cv2.imshow('frame2', frame)  \n",
    "                cv2.imwrite('test.png', frame)  \n",
    "            cv2.waitKey(0)      \n",
    "            print(frame_detect)\n",
    "            break\n",
    "            # break\n",
    "    c.release()\n",
    "    cv2.destroyAllWindows()\n",
    "    [cv2.waitKey(1) for i in range(1,5)]                            # needed to destroy window\n",
    "    return frame_detect"
   ]
  },
  {
   "cell_type": "code",
   "execution_count": null,
   "metadata": {},
   "outputs": [],
   "source": [
    "# cap, od =initialize('../data/aerial_football_video.mp4')\n",
    "cap, od =initialize('../data/aerial_tennis_video.mp4')\n",
    "frame_bbox = identifying_contours_players(cap, od)"
   ]
  },
  {
   "cell_type": "code",
   "execution_count": null,
   "metadata": {},
   "outputs": [],
   "source": [
    "len(frame_bbox)"
   ]
  },
  {
   "cell_type": "code",
   "execution_count": null,
   "metadata": {},
   "outputs": [],
   "source": [
    "frame_bbox_large = []\n",
    "for bb in frame_bbox:\n",
    "    widthlarge = bb[2] * 50\n",
    "    heightlarge = bb[3] * 50\n",
    "    frame_bbox_large.append((bb[0], bb[1], widthlarge, heightlarge))"
   ]
  },
  {
   "cell_type": "code",
   "execution_count": null,
   "metadata": {},
   "outputs": [],
   "source": [
    "frame_bbox_large[:5]"
   ]
  },
  {
   "cell_type": "code",
   "execution_count": null,
   "metadata": {},
   "outputs": [],
   "source": [
    "cap, od =initialize('../data/aerial_tennis_video.mp4')\n",
    "ret, frame_n = cap.read()  # Read the frame\n",
    "\n",
    "for start_contour in frame_bbox_large:\n",
    "    bbox = start_contour\n",
    "    # bbox = (546, 109, 150, 150)\n",
    "    tracker=cv2.legacy.TrackerMOSSE_create()\n",
    "    ok = tracker.init(frame_n ,bbox)\n",
    "    first = None\n",
    "    while True:\n",
    "        if not first:\n",
    "            cap.set(1,n+1) #otherwise starts  reading from 22 when starting with 20\n",
    "            first ='done'\n",
    "        ret, frame = cap.read() \n",
    "        # frame = cleanup_frame(frame, od)\n",
    "        # print(cap.get(1))\n",
    "        if not ret:\n",
    "            break\n",
    "        ok, bbox = tracker.update(frame)\n",
    "        if ok:\n",
    "            print('tracking!')\n",
    "            p1 = (int(bbox[0]), int(bbox[1]))\n",
    "            p2 = (int(bbox[0] + bbox[2]), int(bbox[1] + bbox[3]))\n",
    "            cv2.rectangle(frame, p1, p2, (0,0,255), 2, 1)\n",
    "        else :\n",
    "            print('not tracked')\n",
    "            cv2.putText(frame, \"Tracking failure detected\", (100,80), cv2.FONT_HERSHEY_SIMPLEX, 0.75,(0,0,255),2)\n",
    "        cv2.putText(frame, \"Mosse\" + \" Tracker\", (100,20), cv2.FONT_HERSHEY_SIMPLEX, 0.75, (50,170,50),2)\n",
    "        cv2.imshow(\"Tracking\", frame)\n",
    "        key = cv2.waitKey(1)\n",
    "        if key == ord('q'):                                         # exit\n",
    "            break        \n",
    "        elif key == ord('x'):                                       # pauze screen\n",
    "            cv2.waitKey(0)            \n",
    "\n",
    "    # cap.release()\n",
    "    # cv2.destroyAllWindows()\n",
    "    # [cv2.waitKey(1) for i in range(1,5)]           \n"
   ]
  },
  {
   "cell_type": "code",
   "execution_count": null,
   "metadata": {},
   "outputs": [],
   "source": [
    "#(424, 278, 54, 32) frame 20 starting point tracking bbox"
   ]
  },
  {
   "cell_type": "code",
   "execution_count": null,
   "metadata": {},
   "outputs": [],
   "source": []
  }
 ],
 "metadata": {
  "kernelspec": {
   "display_name": "venv",
   "language": "python",
   "name": "python3"
  },
  "language_info": {
   "codemirror_mode": {
    "name": "ipython",
    "version": 3
   },
   "file_extension": ".py",
   "mimetype": "text/x-python",
   "name": "python",
   "nbconvert_exporter": "python",
   "pygments_lexer": "ipython3",
   "version": "3.8.6"
  }
 },
 "nbformat": 4,
 "nbformat_minor": 2
}
