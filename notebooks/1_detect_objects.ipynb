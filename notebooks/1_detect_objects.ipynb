{
 "cells": [
  {
   "cell_type": "markdown",
   "metadata": {},
   "source": [
    "### Object detection with opencv"
   ]
  },
  {
   "cell_type": "code",
   "execution_count": 108,
   "metadata": {},
   "outputs": [],
   "source": [
    "import cv2\n",
    "import time"
   ]
  },
  {
   "cell_type": "code",
   "execution_count": 121,
   "metadata": {},
   "outputs": [],
   "source": [
    "vartreshold = 10\n",
    "def initialize(videopath):\n",
    "    cap = cv2.VideoCapture(videopath)\n",
    "    od = cv2.createBackgroundSubtractorMOG2(varThreshold=vartreshold, history=20) # better selection and quicker\n",
    "    # od = cv2.createBackgroundSubtractorKNN()\n",
    "    return cap, od"
   ]
  },
  {
   "cell_type": "code",
   "execution_count": 122,
   "metadata": {},
   "outputs": [],
   "source": [
    "# cap, od =initialize('../data/aerial_football_video.mp4')\n",
    "cap, od =initialize('../data/aerial_tennis_video.mp4')"
   ]
  },
  {
   "cell_type": "code",
   "execution_count": 123,
   "metadata": {},
   "outputs": [],
   "source": [
    "def identifying_objects(c, od):\n",
    "    count = 0\n",
    "    while True:\n",
    "        ret, frame = c.read()                                       # read frames\n",
    "        if not ret:\n",
    "            print(\"Stream ended. Exiting...\")\n",
    "            break        \n",
    "        key = cv2.waitKey(1)\n",
    "        if key == ord('q'):                                         # exit\n",
    "            break        \n",
    "        elif key == ord('x'):                                       # pauze screen\n",
    "            cv2.waitKey(0)        \n",
    "        frame = cv2.resize(frame, (960, 540))                       # Resize image\n",
    "        cv2.imshow('frame', frame)\n",
    "        mask = od.apply(frame)                                      # run mask (black and white)\n",
    "        _, mask = cv2.threshold(mask, 254, 255,cv2.THRESH_BINARY)   # set treshold to only get really contrasting values in mask\n",
    "        cv2.imshow('mask', mask)\n",
    "        cv2.imwrite(f'mask_{vartreshold}.png', mask) \n",
    "        contours, _ = cv2.findContours(mask, cv2.RETR_TREE, cv2.CHAIN_APPROX_SIMPLE) #Each individual contour is a Numpy array of (x,y) coordinates of boundary points of the object.\n",
    "        detect = []\n",
    "        # print(contours)\n",
    "        for cnt in contours:\n",
    "            count += 1\n",
    "            x,y,w,h = cv2.boundingRect(cnt)                         # get boundingbox\n",
    "            detect.append([x,y,w,h])\n",
    "            cv2.rectangle(frame,(x,y), (x+w, y+h),(0,0, 255), 3)     # draw rectangle\n",
    "            cv2.imshow('frame2', frame)  \n",
    "            cv2.imwrite(f'frame2_{vartreshold}.png', frame)         \n",
    "    c.release()\n",
    "    cv2.destroyAllWindows()\n",
    "    [cv2.waitKey(1) for i in range(1,5)]                            # needed to destroy window\n",
    "    return c, frame"
   ]
  },
  {
   "cell_type": "code",
   "execution_count": 124,
   "metadata": {},
   "outputs": [
    {
     "ename": "KeyboardInterrupt",
     "evalue": "",
     "output_type": "error",
     "traceback": [
      "\u001b[0;31m---------------------------------------------------------------------------\u001b[0m",
      "\u001b[0;31mKeyboardInterrupt\u001b[0m                         Traceback (most recent call last)",
      "Cell \u001b[0;32mIn[124], line 1\u001b[0m\n\u001b[0;32m----> 1\u001b[0m cap, frame \u001b[38;5;241m=\u001b[39m \u001b[43midentifying_objects\u001b[49m\u001b[43m(\u001b[49m\u001b[43mcap\u001b[49m\u001b[43m,\u001b[49m\u001b[43m \u001b[49m\u001b[43mod\u001b[49m\u001b[43m)\u001b[49m\n",
      "Cell \u001b[0;32mIn[123], line 28\u001b[0m, in \u001b[0;36midentifying_objects\u001b[0;34m(c, od)\u001b[0m\n\u001b[1;32m     26\u001b[0m         cv2\u001b[38;5;241m.\u001b[39mrectangle(frame,(x,y), (x\u001b[38;5;241m+\u001b[39mw, y\u001b[38;5;241m+\u001b[39mh),(\u001b[38;5;241m0\u001b[39m,\u001b[38;5;241m0\u001b[39m, \u001b[38;5;241m255\u001b[39m), \u001b[38;5;241m3\u001b[39m)     \u001b[38;5;66;03m# draw rectangle\u001b[39;00m\n\u001b[1;32m     27\u001b[0m         cv2\u001b[38;5;241m.\u001b[39mimshow(\u001b[38;5;124m'\u001b[39m\u001b[38;5;124mframe2\u001b[39m\u001b[38;5;124m'\u001b[39m, frame)  \n\u001b[0;32m---> 28\u001b[0m         \u001b[43mcv2\u001b[49m\u001b[38;5;241;43m.\u001b[39;49m\u001b[43mimwrite\u001b[49m\u001b[43m(\u001b[49m\u001b[38;5;124;43mf\u001b[39;49m\u001b[38;5;124;43m'\u001b[39;49m\u001b[38;5;124;43mframe2_\u001b[39;49m\u001b[38;5;132;43;01m{\u001b[39;49;00m\u001b[43mvartreshold\u001b[49m\u001b[38;5;132;43;01m}\u001b[39;49;00m\u001b[38;5;124;43m.png\u001b[39;49m\u001b[38;5;124;43m'\u001b[39;49m\u001b[43m,\u001b[49m\u001b[43m \u001b[49m\u001b[43mframe\u001b[49m\u001b[43m)\u001b[49m         \n\u001b[1;32m     29\u001b[0m c\u001b[38;5;241m.\u001b[39mrelease()\n\u001b[1;32m     30\u001b[0m cv2\u001b[38;5;241m.\u001b[39mdestroyAllWindows()\n",
      "\u001b[0;31mKeyboardInterrupt\u001b[0m: "
     ]
    }
   ],
   "source": [
    "cap, frame = identifying_objects(cap, od)3"
   ]
  },
  {
   "cell_type": "code",
   "execution_count": null,
   "metadata": {},
   "outputs": [],
   "source": []
  }
 ],
 "metadata": {
  "kernelspec": {
   "display_name": "venv",
   "language": "python",
   "name": "python3"
  },
  "language_info": {
   "codemirror_mode": {
    "name": "ipython",
    "version": 3
   },
   "file_extension": ".py",
   "mimetype": "text/x-python",
   "name": "python",
   "nbconvert_exporter": "python",
   "pygments_lexer": "ipython3",
   "version": "3.8.6"
  }
 },
 "nbformat": 4,
 "nbformat_minor": 2
}
